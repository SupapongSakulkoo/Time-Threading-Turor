{
 "cells": [
  {
   "cell_type": "markdown",
   "metadata": {},
   "source": [
    "### Author/Write : Supapong Sakulkoo E-mail : kevinangas@gmail.com / auulovemoo@hotmail.com"
   ]
  },
  {
   "cell_type": "markdown",
   "metadata": {},
   "source": [
    "### ติดตั้ง Library ที่จำเป็น"
   ]
  },
  {
   "cell_type": "code",
   "execution_count": null,
   "metadata": {},
   "outputs": [],
   "source": [
    "!pip install termcolor \n",
    "!pip install pyfiglet"
   ]
  },
  {
   "cell_type": "code",
   "execution_count": 59,
   "metadata": {},
   "outputs": [
    {
     "name": "stdout",
     "output_type": "stream",
     "text": [
      "\u001b[1m\u001b[34m   ______                __           __\n",
      "  / ____/_______  ____ _/ /____  ____/ /\n",
      " / /   / ___/ _ \\/ __ `/ __/ _ \\/ __  / \n",
      "/ /___/ /  /  __/ /_/ / /_/  __/ /_/ /  \n",
      "\\____/_/   \\___/\\__,_/\\__/\\___/\\__,_/   \n",
      "                                        \n",
      "   _____                                          \n",
      "  / ___/__  ______  ____ _____  ____  ____  ____ _\n",
      "  \\__ \\/ / / / __ \\/ __ `/ __ \\/ __ \\/ __ \\/ __ `/\n",
      " ___/ / /_/ / /_/ / /_/ / /_/ / /_/ / / / / /_/ / \n",
      "/____/\\__,_/ .___/\\__,_/ .___/\\____/_/ /_/\\__, /  \n",
      "          /_/         /_/                /____/   \n",
      "   _____       __         ____             \n",
      "  / ___/____ _/ /____  __/ / /______  ____ \n",
      "  \\__ \\/ __ `/ //_/ / / / / //_/ __ \\/ __ \\\n",
      " ___/ / /_/ / ,< / /_/ / / ,< / /_/ / /_/ /\n",
      "/____/\\__,_/_/|_|\\__,_/_/_/|_|\\____/\\____/ \n",
      "                                           \n",
      "\u001b[0m\n"
     ]
    }
   ],
   "source": [
    "from pyfiglet import figlet_format \n",
    "from termcolor import cprint \n",
    "\n",
    "cprint(figlet_format(\"Created Supapong Sakulkoo\",font=\"slant\"),'blue',attrs=['bold'])"
   ]
  },
  {
   "cell_type": "markdown",
   "metadata": {},
   "source": [
    "## 1.  time.time() ฟังก์ชันบอกเวลาของระบบปฎิบัติการ Unix นับเริ่มต้นขึ้นวันที่ 1 มกราคม ค.ศ. 1970 รวมเวลาจนถึงปัจจุบันโดยเวลาของ Unix มีหน่วยเป็นวินาที\n"
   ]
  },
  {
   "cell_type": "code",
   "execution_count": 60,
   "metadata": {},
   "outputs": [
    {
     "name": "stdout",
     "output_type": "stream",
     "text": [
      "1601319127.2089586\n"
     ]
    }
   ],
   "source": [
    "import time \n",
    "print(time.time())"
   ]
  },
  {
   "cell_type": "code",
   "execution_count": 2,
   "metadata": {},
   "outputs": [
    {
     "name": "stdout",
     "output_type": "stream",
     "text": [
      "Unix Time :  1601379683.2758029\n"
     ]
    }
   ],
   "source": [
    "import time\n",
    "\n",
    "print(\"Unix Time : \",time.time())\n"
   ]
  },
  {
   "cell_type": "code",
   "execution_count": 7,
   "metadata": {},
   "outputs": [
    {
     "name": "stdout",
     "output_type": "stream",
     "text": [
      "เวลาที่คำสั่งปริ้นทำงาน :  0.0\n"
     ]
    }
   ],
   "source": [
    "\n",
    "startTime = time.time()\n",
    "print(10) #คำสั่งที่ต้องการนับเวลาการทำงาน\n",
    "endTime = time.time()\n",
    "print(\"เวลาที่คำสั่งปริ้นทำงาน : \",abs(startTime-endTime))"
   ]
  },
  {
   "cell_type": "code",
   "execution_count": null,
   "metadata": {},
   "outputs": [],
   "source": [
    "\n"
   ]
  },
  {
   "cell_type": "code",
   "execution_count": 61,
   "metadata": {},
   "outputs": [
    {
     "data": {
      "text/plain": [
       "TestResults(failed=0, attempted=2)"
      ]
     },
     "execution_count": 61,
     "metadata": {},
     "output_type": "execute_result"
    }
   ],
   "source": [
    "import doctest \n",
    "\n",
    "def plus(a,b):\n",
    "    \"\"\"\n",
    "    >>> plus(5,6)\n",
    "    11\n",
    "    \"\"\"\n",
    "    return a+b\n",
    "doctest.testmod()"
   ]
  },
  {
   "cell_type": "raw",
   "metadata": {},
   "source": []
  },
  {
   "cell_type": "markdown",
   "metadata": {},
   "source": [
    "## 2.   startTime - endTime = เวลาที่คำสั่งทำงาน"
   ]
  },
  {
   "cell_type": "code",
   "execution_count": 9,
   "metadata": {},
   "outputs": [
    {
     "name": "stdout",
     "output_type": "stream",
     "text": [
      "prod =  1\n",
      "result :  1\n",
      "result :  0.0\n"
     ]
    }
   ],
   "source": [
    "import time\n",
    "def calcProd():\n",
    "    product = 1 \n",
    "    for i in range(10000):\n",
    "        product = product *1\n",
    "    return product \n",
    "\n",
    "startTime = time.time()\n",
    "prod = calcProd() #ค่าที่ได้จากการ return ในฟังก์ชัน calcProd()\n",
    "endTime = time.time()\n",
    "\n",
    "print(\"prod = \",prod)\n",
    "print(\"result : \",len(str(prod)))\n",
    "print(\"result : \",endTime-startTime)"
   ]
  },
  {
   "cell_type": "markdown",
   "metadata": {},
   "source": [
    "# 2.1 ราสามารถให้แสดงผลวันเวลาในรูปแบบตามที่ต้องการซึ่งกำหนดเองได้โดยใช้เมธอด strftime\n",
    "\n",
    "# อาร์กิวเมนต์ที่ต้องใส่คือสายอักขระที่ประกอบไปด้วย % ตามด้วยอักษร ซึ่งแทนค่าในส่วนต่างๆในรูปแบบต่างๆของวันเวลา ซึ่งสรุปได้ตามนี้\n",
    "\n",
    "## %a\tวันในสัปดาห์ในรูปย่อ Tue\n",
    "## %A\tวันในสัปดาห์เป็นชื่อเต็ม Tuesday\n",
    "## %w\tวันในสัปดาห์เป็นตัวเลข อาทิตย์เป็น 0 เสาร์เป็น 6\n",
    "## %d\tวันที่ในรูปเลขสองหลัก (เติม 0 เมื่อมีหลักเดียว)\n",
    "## %b\tชื่อเดือนในรูปย่อ  Sep\n",
    "## %B\tชื่อเดือนเป็นชื่อเต็ม September\n",
    "## %m\tเลขเดือนเป็นเลขสองหลัก (เติม 0 เมื่อมีหลักเดียว)\n",
    "## %y\tเลขปีในรูปเลขสองหลักสุดท้าย\n",
    "## %Y\tเลขปีในรูปเลขสี่หลัก (เติม 0 เมื่อมีไม่ถึงสี่หลัก)\n",
    "## %H\tเวลาชั่วโมงเป็นเลขสองหลักถึง 24 (เติม 0 เมื่อมีหลักเดียว)\n",
    "## %I\tเวลาชั่วโมงเป็นเลขสองหลักไม่เกิน 12 (เติม 0 เมื่อมีหลักเดียว)\n",
    "## %p\tเวลา AM หรือ PM\n",
    "## %M\tเวลานาทีเป็นเลขสองหลัก (เติม 0 เมื่อมีหลักเดียว)\n",
    "## %S\tเวลาวินาทีเป็นเลขสองหลัก (เติม 0 เมื่อมีหลักเดียว)\n",
    "## %f\tเวลาไมโครวินาทีเป็นเลขหกหลัก (เติม 0 เมื่อมีไม่ถึงหกหลัก)\n",
    "## %j\tเลขลำดับวันในปี (1 ถึง 366)\n",
    "## %U\tหรือ %W ลำดับของสัปดาห์ภายในปี\n",
    "## %c\tแสดงวันเวลาในรูปแบบเดียวกับ ctime()\n",
    "## %x\tเดือน/ปี/วัน\n",
    "## %X\tชั่วโมง:นาที:วินาที"
   ]
  },
  {
   "cell_type": "markdown",
   "metadata": {},
   "source": [
    "## 3. time.sleep(a) หยุดการทำงานของโปรแกรม เป็นเวลา a วินาที เช่น \n",
    "##  time.sleep(3) หยุดเวลาการทำงานของโปรแกรม 3 วินาที"
   ]
  },
  {
   "cell_type": "code",
   "execution_count": 12,
   "metadata": {},
   "outputs": [
    {
     "name": "stdout",
     "output_type": "stream",
     "text": [
      "Tick\n",
      "Tock\n",
      "Tick\n",
      "Tock\n",
      "Tick\n",
      "Tock\n",
      "5 second to end\n",
      "Ending\n"
     ]
    }
   ],
   "source": [
    "import time \n",
    "for i in range(3):\n",
    "    print(\"Tick\")\n",
    "    time.sleep(2)\n",
    "    print(\"Tock\")\n",
    "    time.sleep(2)\n",
    "\n",
    "print(\"5 second to end\")\n",
    "time.sleep(5)\n",
    "print('Ending')"
   ]
  },
  {
   "cell_type": "code",
   "execution_count": 11,
   "metadata": {},
   "outputs": [
    {
     "name": "stdout",
     "output_type": "stream",
     "text": [
      "Tick\n",
      "Tock\n",
      "Tick\n",
      "Tock\n",
      "Tick\n",
      "Tock\n"
     ]
    }
   ],
   "source": [
    "for i in range(3):\n",
    "    print(\"Tick\")\n",
    "    print(\"Tock\")"
   ]
  },
  {
   "cell_type": "markdown",
   "metadata": {},
   "source": [
    "# 3.1 time.ctime() คำสั่งรับข้อมูลเวลาในรูปแบบสตริง"
   ]
  },
  {
   "cell_type": "code",
   "execution_count": 13,
   "metadata": {},
   "outputs": [
    {
     "data": {
      "text/plain": [
       "'Tue Sep 29 18:51:22 2020'"
      ]
     },
     "execution_count": 13,
     "metadata": {},
     "output_type": "execute_result"
    }
   ],
   "source": [
    "time.ctime() #ctime = current time = เวลาปัจจุบัน"
   ]
  },
  {
   "cell_type": "code",
   "execution_count": 14,
   "metadata": {},
   "outputs": [
    {
     "name": "stdout",
     "output_type": "stream",
     "text": [
      "Tue Sep 29 18:52:33 2020\n"
     ]
    }
   ],
   "source": [
    "print(time.ctime())"
   ]
  },
  {
   "cell_type": "code",
   "execution_count": 16,
   "metadata": {},
   "outputs": [
    {
     "data": {
      "text/plain": [
       "time.struct_time(tm_year=2020, tm_mon=9, tm_mday=29, tm_hour=18, tm_min=53, tm_sec=8, tm_wday=1, tm_yday=273, tm_isdst=0)"
      ]
     },
     "execution_count": 16,
     "metadata": {},
     "output_type": "execute_result"
    }
   ],
   "source": [
    "time.localtime() #return เวลาท้องถิ่น"
   ]
  },
  {
   "cell_type": "code",
   "execution_count": 18,
   "metadata": {},
   "outputs": [
    {
     "name": "stdout",
     "output_type": "stream",
     "text": [
      "เวลา :  18 : 55 : 27\n",
      "273\n"
     ]
    }
   ],
   "source": [
    "timeis = time.localtime()\n",
    "print(\"เวลา : \",timeis.tm_hour,\":\",timeis.tm_min,\":\",timeis.tm_sec)\n",
    "print(timeis.tm_yday)"
   ]
  },
  {
   "cell_type": "code",
   "execution_count": 25,
   "metadata": {},
   "outputs": [
    {
     "name": "stdout",
     "output_type": "stream",
     "text": [
      "year :  2020\n",
      "month :  9\n",
      "day :  29\n",
      "hour :  18\n",
      "min :  58\n"
     ]
    }
   ],
   "source": [
    "print('year : ',time.localtime().tm_year)\n",
    "print('month : ',time.localtime().tm_mon)\n",
    "print('day : ',time.localtime().tm_mday)\n",
    "print('hour : ',time.localtime().tm_hour)\n",
    "print('min : ',time.localtime().tm_min)"
   ]
  },
  {
   "cell_type": "markdown",
   "metadata": {},
   "source": [
    "# 4. datetime.datetime.now() แสดงเวลาปัจจุบัน"
   ]
  },
  {
   "cell_type": "code",
   "execution_count": 26,
   "metadata": {},
   "outputs": [
    {
     "name": "stdout",
     "output_type": "stream",
     "text": [
      "Datetime now :  2020-09-29 18:59:33.237377\n",
      "Seconds :  33\n",
      "Minute :  59\n",
      "Hour :  18\n",
      "Day :  29\n",
      "Month :  9\n",
      "Year :  2020\n"
     ]
    }
   ],
   "source": [
    "import datetime\n",
    "\n",
    "\n",
    "dt = datetime.datetime.now()\n",
    "print(\"Datetime now : \",datetime.datetime.now())\n",
    "print(\"Seconds : \",dt.second)\n",
    "print(\"Minute : \",dt.minute)\n",
    "print(\"Hour : \",dt.hour)\n",
    "print(\"Day : \",dt.day)\n",
    "print(\"Month : \",dt.month)\n",
    "print(\"Year : \",dt.year)\n",
    "\n"
   ]
  },
  {
   "cell_type": "code",
   "execution_count": 32,
   "metadata": {},
   "outputs": [
    {
     "name": "stdout",
     "output_type": "stream",
     "text": [
      "2020-09-29 19:01:19.343846\n",
      "19\n",
      "1\n",
      "19\n",
      "29\n"
     ]
    }
   ],
   "source": [
    "print(datetime.datetime.now())\n",
    "print(datetime.datetime.now().second)\n",
    "print(datetime.datetime.now().minute)\n",
    "print(datetime.datetime.now().hour)\n",
    "print(datetime.datetime.now().day)"
   ]
  },
  {
   "cell_type": "markdown",
   "metadata": {},
   "source": [
    "# datetime.datetime  "
   ]
  },
  {
   "cell_type": "code",
   "execution_count": 68,
   "metadata": {},
   "outputs": [
    {
     "name": "stdout",
     "output_type": "stream",
     "text": [
      "<class 'datetime.datetime'>\n"
     ]
    }
   ],
   "source": [
    "print(datetime.datetime)"
   ]
  },
  {
   "cell_type": "code",
   "execution_count": 36,
   "metadata": {},
   "outputs": [
    {
     "name": "stdout",
     "output_type": "stream",
     "text": [
      "September of 2020\n",
      "Sep of 20\n"
     ]
    }
   ],
   "source": [
    "print(dt.strftime(\"%B of %Y\"))\n",
    "print(dt.strftime(\"%b of %y\"))"
   ]
  },
  {
   "cell_type": "code",
   "execution_count": 34,
   "metadata": {},
   "outputs": [
    {
     "data": {
      "text/plain": [
       "'2020/ 09/29 18:59:33'"
      ]
     },
     "execution_count": 34,
     "metadata": {},
     "output_type": "execute_result"
    }
   ],
   "source": [
    "dt.strftime(\"%Y/ %m/%d %H:%M:%S\")"
   ]
  },
  {
   "cell_type": "markdown",
   "metadata": {},
   "source": [
    "# %ตัวใหญ่ชื่อเต็ม  %ตัวเล็กชื่อย่อ"
   ]
  },
  {
   "cell_type": "code",
   "execution_count": 54,
   "metadata": {},
   "outputs": [
    {
     "name": "stdout",
     "output_type": "stream",
     "text": [
      "Tuesday  09/29/20  September  2020   19:10:27\n",
      "Tue  29  Sep  20  Sep  09\n"
     ]
    }
   ],
   "source": [
    "#ใช้งานจริง \n",
    "dt = datetime.datetime.now()\n",
    "print(dt.strftime(\"%A  %D  %B  %Y   %H:%M:%S\"))\n",
    "print(dt.strftime(\"%a  %d  %b  %y  %h  %m\"))"
   ]
  },
  {
   "cell_type": "markdown",
   "metadata": {},
   "source": [
    "# 5. threading การแบ่งการทำงานของโปรแกรม ให้โปรแกรมทำงานพร้อมกันได้"
   ]
  },
  {
   "cell_type": "code",
   "execution_count": 65,
   "metadata": {},
   "outputs": [
    {
     "name": "stdout",
     "output_type": "stream",
     "text": [
      "Hello World 100\n",
      "Threading Start Program\n"
     ]
    }
   ],
   "source": [
    "import time \n",
    "import threading \n",
    "\n",
    "def show(e):\n",
    "    print(\"Hello World {}\".format(e))\n",
    "\n",
    "def show2(s):\n",
    "    print(\"Threading Start {}\".format(s))\n",
    "    \n",
    "threading.Thread(target=show,args=[100]).start()\n",
    "threading.Thread(target=show2,args=[\"Program\"]).start()"
   ]
  },
  {
   "cell_type": "code",
   "execution_count": 92,
   "metadata": {},
   "outputs": [
    {
     "name": "stdout",
     "output_type": "stream",
     "text": [
      "mul :  10\n",
      "plus :  8\n"
     ]
    }
   ],
   "source": [
    "def mul(a,b):\n",
    "    print('mul : ',a*b) \n",
    "\n",
    "def plus(x,y):\n",
    "    print('plus : ',x+y) \n",
    "\n",
    "thread1 = threading.Thread(target=mul,args=[2,5])\n",
    "thread1.start()\n",
    "\n",
    "thread2 = threading.Thread(target = plus , args=[3,5])\n",
    "thread2.start()\n"
   ]
  },
  {
   "cell_type": "code",
   "execution_count": 79,
   "metadata": {},
   "outputs": [
    {
     "name": "stdout",
     "output_type": "stream",
     "text": [
      "mul :  10\n",
      "plus :  8\n"
     ]
    }
   ],
   "source": [
    "mul(2,5)\n",
    "plus(3,5)"
   ]
  },
  {
   "cell_type": "markdown",
   "metadata": {},
   "source": [
    "# 5.1 Join  "
   ]
  },
  {
   "cell_type": "code",
   "execution_count": 103,
   "metadata": {},
   "outputs": [
    {
     "name": "stdout",
     "output_type": "stream",
     "text": [
      "Hello World 100\n",
      "Hello World 200\n"
     ]
    }
   ],
   "source": [
    "thread1 = threading.Thread(target=show,args=[100])\n",
    "thread2 = threading.Thread(target=show,args=[200])\n",
    "\n",
    "\n",
    "\n",
    "thread1.start() #thread1 เริ่มทำงาน แต่ threadที่ 2 ต้องรอให้ threadที่ 1 ทำงานเสร็จก่อน จึงจะทำงาน\n",
    "thread1.join()\n",
    "thread2.start()\n",
    "thread2.join()"
   ]
  },
  {
   "cell_type": "markdown",
   "metadata": {},
   "source": [
    "# 6. Subprocess"
   ]
  },
  {
   "cell_type": "code",
   "execution_count": 76,
   "metadata": {},
   "outputs": [
    {
     "data": {
      "text/plain": [
       "b' Volume in drive C has no label.\\r\\n Volume Serial Number is 1EAD-9C6B\\r\\n\\r\\n Directory of C:\\\\Users\\\\MSI\\\\Desktop\\\\Lab6_Script\\r\\n\\r\\n09/29/2020  01:54 AM    <DIR>          .\\r\\n09/29/2020  01:54 AM    <DIR>          ..\\r\\n09/28/2020  10:49 PM    <DIR>          .ipynb_checkpoints\\r\\n09/29/2020  01:54 AM            13,473 Lab6_Threading Time.ipynb\\r\\n09/28/2020  10:39 PM           388,983 Lab6_Time (1).docx\\r\\n               2 File(s)        402,456 bytes\\r\\n               3 Dir(s)  305,241,313,280 bytes free\\r\\n'"
      ]
     },
     "execution_count": 76,
     "metadata": {},
     "output_type": "execute_result"
    }
   ],
   "source": [
    "import subprocess\n",
    "subprocess.check_output('dir',shell=True)"
   ]
  },
  {
   "cell_type": "code",
   "execution_count": 79,
   "metadata": {},
   "outputs": [
    {
     "data": {
      "text/plain": [
       "CompletedProcess(args='python -V', returncode=0)"
      ]
     },
     "execution_count": 79,
     "metadata": {},
     "output_type": "execute_result"
    }
   ],
   "source": [
    "subprocess.run('python -V')"
   ]
  },
  {
   "cell_type": "code",
   "execution_count": 82,
   "metadata": {},
   "outputs": [
    {
     "data": {
      "text/plain": [
       "CompletedProcess(args=['python', '-V'], returncode=0)"
      ]
     },
     "execution_count": 82,
     "metadata": {},
     "output_type": "execute_result"
    }
   ],
   "source": [
    "subprocess.run('python -V'.split())"
   ]
  },
  {
   "cell_type": "code",
   "execution_count": 81,
   "metadata": {},
   "outputs": [
    {
     "name": "stdout",
     "output_type": "stream",
     "text": [
      "CompletedProcess(args=['python', '-V'], returncode=0)\n",
      "args :  ['python', '-V']\n",
      "returncode :  0\n"
     ]
    }
   ],
   "source": [
    "p = subprocess.run(['python','-V'])\n",
    "print(p)\n",
    "print('args : ',p.args)\n",
    "print('returncode : ',p.returncode)"
   ]
  },
  {
   "cell_type": "code",
   "execution_count": null,
   "metadata": {},
   "outputs": [],
   "source": []
  }
 ],
 "metadata": {
  "kernelspec": {
   "display_name": "Python 3",
   "language": "python",
   "name": "python3"
  },
  "language_info": {
   "codemirror_mode": {
    "name": "ipython",
    "version": 3
   },
   "file_extension": ".py",
   "mimetype": "text/x-python",
   "name": "python",
   "nbconvert_exporter": "python",
   "pygments_lexer": "ipython3",
   "version": "3.8.3"
  }
 },
 "nbformat": 4,
 "nbformat_minor": 4
}
